{
 "cells": [
  {
   "cell_type": "markdown",
   "metadata": {},
   "source": [
    "# Diagnosing Hypothyroid disease using Deep Learning\n",
    "\n",
    "Hypothyroid disease or Hypothyroidism is one of the most difficult diseases to diagnose. It is a condition which causes your thyroid gland to not produce enough of certain crucial hormones. It usually may not cause noticeable symptoms in the early stages and hence becomes extremely difficult to diagnose. Applying deep learning algorithms can help assist healthcare workers in identifying signs and symptoms based on patterns shown in past cases of patients' data.\n",
    "\n",
    "In this tutorial, we will be learning the code and workflow for diagnosing whether or not a person is suffering from Hypothyroid disease based on various metrics."
   ]
  },
  {
   "cell_type": "markdown",
   "metadata": {
    "_cell_guid": "b1076dfc-b9ad-4769-8c92-a6c4dae69d19",
    "_uuid": "8f2839f25d086af736a60e9eeb907d3b93b6e0e5"
   },
   "source": [
    "## Importing necessary libraries\n",
    "\n",
    "We will start by importing the necessary libraries in Python."
   ]
  },
  {
   "cell_type": "code",
   "execution_count": 1,
   "metadata": {
    "_cell_guid": "79c7e3d0-c299-4dcb-8224-4455121ee9b0",
    "_uuid": "d629ff2d2480ee46fbb7e2d37f6b5fab8052498a"
   },
   "outputs": [],
   "source": [
    "import numpy as np # linear algebra\n",
    "import pandas as pd # data processing, CSV file I/O (e.g. pd.read_csv)\n",
    "import pickle # For saving models\n",
    "import matplotlib.pyplot as plt # For plotting figures\n",
    "from sklearn.metrics import confusion_matrix, f1_score, precision_score, recall_score\n",
    "\n",
    "# For building our model\n",
    "import keras\n",
    "from keras.models import Sequential\n",
    "from keras.layers import Dense"
   ]
  },
  {
   "cell_type": "markdown",
   "metadata": {},
   "source": [
    "## Data\n",
    "\n",
    "- We are using the hypothyroid data for training our model. \n",
    "- The dataset contains the value of different hormone levels of different patients along with our target variable, i.e., if the patient was suffering from hypothyroidism or not. \n",
    "- To start using it, you can download the dataset from [here](https://drive.google.com/file/d/11A-9z9BgfyuD8IpvXpjmmc-Js5cAw0I4/view?usp=sharing) and save it into a folder named “data”. We can then load the csv dataset using pandas."
   ]
  },
  {
   "cell_type": "code",
   "execution_count": 2,
   "metadata": {},
   "outputs": [
    {
     "data": {
      "text/html": [
       "<div>\n",
       "<style scoped>\n",
       "    .dataframe tbody tr th:only-of-type {\n",
       "        vertical-align: middle;\n",
       "    }\n",
       "\n",
       "    .dataframe tbody tr th {\n",
       "        vertical-align: top;\n",
       "    }\n",
       "\n",
       "    .dataframe thead th {\n",
       "        text-align: right;\n",
       "    }\n",
       "</style>\n",
       "<table border=\"1\" class=\"dataframe\">\n",
       "  <thead>\n",
       "    <tr style=\"text-align: right;\">\n",
       "      <th></th>\n",
       "      <th>Unnamed: 0</th>\n",
       "      <th>Age</th>\n",
       "      <th>Gender</th>\n",
       "      <th>on_thyroxine</th>\n",
       "      <th>query_on_thyroxine</th>\n",
       "      <th>on_antithyroid_medication</th>\n",
       "      <th>thyroid_surgery</th>\n",
       "      <th>query_hypothyroid</th>\n",
       "      <th>query_hyperthyroid</th>\n",
       "      <th>pregnant</th>\n",
       "      <th>...</th>\n",
       "      <th>T3_measured</th>\n",
       "      <th>T3</th>\n",
       "      <th>TT4_measured</th>\n",
       "      <th>TT4</th>\n",
       "      <th>T4U_measured</th>\n",
       "      <th>T4U</th>\n",
       "      <th>FTI_measured</th>\n",
       "      <th>FTI</th>\n",
       "      <th>TBG_measured</th>\n",
       "      <th>TBG</th>\n",
       "    </tr>\n",
       "  </thead>\n",
       "  <tbody>\n",
       "    <tr>\n",
       "      <th>0</th>\n",
       "      <td>hypothyroid</td>\n",
       "      <td>72</td>\n",
       "      <td>M</td>\n",
       "      <td>f</td>\n",
       "      <td>f</td>\n",
       "      <td>f</td>\n",
       "      <td>f</td>\n",
       "      <td>f</td>\n",
       "      <td>f</td>\n",
       "      <td>f</td>\n",
       "      <td>...</td>\n",
       "      <td>y</td>\n",
       "      <td>0.6</td>\n",
       "      <td>y</td>\n",
       "      <td>15</td>\n",
       "      <td>y</td>\n",
       "      <td>1.48</td>\n",
       "      <td>y</td>\n",
       "      <td>10</td>\n",
       "      <td>n</td>\n",
       "      <td>?</td>\n",
       "    </tr>\n",
       "    <tr>\n",
       "      <th>1</th>\n",
       "      <td>hypothyroid</td>\n",
       "      <td>15</td>\n",
       "      <td>F</td>\n",
       "      <td>t</td>\n",
       "      <td>f</td>\n",
       "      <td>f</td>\n",
       "      <td>f</td>\n",
       "      <td>f</td>\n",
       "      <td>f</td>\n",
       "      <td>f</td>\n",
       "      <td>...</td>\n",
       "      <td>y</td>\n",
       "      <td>1.7</td>\n",
       "      <td>y</td>\n",
       "      <td>19</td>\n",
       "      <td>y</td>\n",
       "      <td>1.13</td>\n",
       "      <td>y</td>\n",
       "      <td>17</td>\n",
       "      <td>n</td>\n",
       "      <td>?</td>\n",
       "    </tr>\n",
       "    <tr>\n",
       "      <th>2</th>\n",
       "      <td>hypothyroid</td>\n",
       "      <td>24</td>\n",
       "      <td>M</td>\n",
       "      <td>f</td>\n",
       "      <td>f</td>\n",
       "      <td>f</td>\n",
       "      <td>f</td>\n",
       "      <td>f</td>\n",
       "      <td>f</td>\n",
       "      <td>f</td>\n",
       "      <td>...</td>\n",
       "      <td>y</td>\n",
       "      <td>0.2</td>\n",
       "      <td>y</td>\n",
       "      <td>4</td>\n",
       "      <td>y</td>\n",
       "      <td>1</td>\n",
       "      <td>y</td>\n",
       "      <td>0</td>\n",
       "      <td>n</td>\n",
       "      <td>?</td>\n",
       "    </tr>\n",
       "    <tr>\n",
       "      <th>3</th>\n",
       "      <td>hypothyroid</td>\n",
       "      <td>24</td>\n",
       "      <td>F</td>\n",
       "      <td>f</td>\n",
       "      <td>f</td>\n",
       "      <td>f</td>\n",
       "      <td>f</td>\n",
       "      <td>f</td>\n",
       "      <td>f</td>\n",
       "      <td>f</td>\n",
       "      <td>...</td>\n",
       "      <td>y</td>\n",
       "      <td>0.4</td>\n",
       "      <td>y</td>\n",
       "      <td>6</td>\n",
       "      <td>y</td>\n",
       "      <td>1.04</td>\n",
       "      <td>y</td>\n",
       "      <td>6</td>\n",
       "      <td>n</td>\n",
       "      <td>?</td>\n",
       "    </tr>\n",
       "    <tr>\n",
       "      <th>4</th>\n",
       "      <td>hypothyroid</td>\n",
       "      <td>77</td>\n",
       "      <td>M</td>\n",
       "      <td>f</td>\n",
       "      <td>f</td>\n",
       "      <td>f</td>\n",
       "      <td>f</td>\n",
       "      <td>f</td>\n",
       "      <td>f</td>\n",
       "      <td>f</td>\n",
       "      <td>...</td>\n",
       "      <td>y</td>\n",
       "      <td>1.2</td>\n",
       "      <td>y</td>\n",
       "      <td>57</td>\n",
       "      <td>y</td>\n",
       "      <td>1.28</td>\n",
       "      <td>y</td>\n",
       "      <td>44</td>\n",
       "      <td>n</td>\n",
       "      <td>?</td>\n",
       "    </tr>\n",
       "  </tbody>\n",
       "</table>\n",
       "<p>5 rows × 26 columns</p>\n",
       "</div>"
      ],
      "text/plain": [
       "    Unnamed: 0 Age Gender on_thyroxine query_on_thyroxine  \\\n",
       "0  hypothyroid  72      M            f                  f   \n",
       "1  hypothyroid  15      F            t                  f   \n",
       "2  hypothyroid  24      M            f                  f   \n",
       "3  hypothyroid  24      F            f                  f   \n",
       "4  hypothyroid  77      M            f                  f   \n",
       "\n",
       "  on_antithyroid_medication thyroid_surgery query_hypothyroid  \\\n",
       "0                         f               f                 f   \n",
       "1                         f               f                 f   \n",
       "2                         f               f                 f   \n",
       "3                         f               f                 f   \n",
       "4                         f               f                 f   \n",
       "\n",
       "  query_hyperthyroid pregnant  ... T3_measured   T3 TT4_measured TT4  \\\n",
       "0                  f        f  ...           y  0.6            y  15   \n",
       "1                  f        f  ...           y  1.7            y  19   \n",
       "2                  f        f  ...           y  0.2            y   4   \n",
       "3                  f        f  ...           y  0.4            y   6   \n",
       "4                  f        f  ...           y  1.2            y  57   \n",
       "\n",
       "  T4U_measured   T4U FTI_measured FTI TBG_measured TBG  \n",
       "0            y  1.48            y  10            n   ?  \n",
       "1            y  1.13            y  17            n   ?  \n",
       "2            y     1            y   0            n   ?  \n",
       "3            y  1.04            y   6            n   ?  \n",
       "4            y  1.28            y  44            n   ?  \n",
       "\n",
       "[5 rows x 26 columns]"
      ]
     },
     "execution_count": 2,
     "metadata": {},
     "output_type": "execute_result"
    }
   ],
   "source": [
    "# Load dataset from csv using pandas\n",
    "dataset = pd.read_csv('data/hypothyroid.csv')\n",
    "dataset.head()"
   ]
  },
  {
   "cell_type": "code",
   "execution_count": 3,
   "metadata": {},
   "outputs": [
    {
     "data": {
      "text/plain": [
       "Index(['Unnamed: 0', 'Age', 'Gender', 'on_thyroxine', 'query_on_thyroxine',\n",
       "       'on_antithyroid_medication', 'thyroid_surgery', 'query_hypothyroid',\n",
       "       'query_hyperthyroid', 'pregnant', 'sick', 'tumor', 'lithium', 'goitre',\n",
       "       'TSH_measured', 'TSH', 'T3_measured', 'T3', 'TT4_measured', 'TT4',\n",
       "       'T4U_measured', 'T4U', 'FTI_measured', 'FTI', 'TBG_measured', 'TBG'],\n",
       "      dtype='object')"
      ]
     },
     "execution_count": 3,
     "metadata": {},
     "output_type": "execute_result"
    }
   ],
   "source": [
    "dataset.columns"
   ]
  },
  {
   "cell_type": "markdown",
   "metadata": {},
   "source": [
    "**The dataset contains several features related to the patient such as age, gender, and if the person was on any kind of medication or not, along with the measure of different hormones such as T3, T4 ,etc.**"
   ]
  },
  {
   "cell_type": "markdown",
   "metadata": {},
   "source": [
    "## Data Cleaning\n",
    "\n",
    "After getting the data, cleaning and formatting it is essential to avoid potential faults in our results due to inconsistencies or errors in our data."
   ]
  },
  {
   "cell_type": "code",
   "execution_count": 4,
   "metadata": {},
   "outputs": [],
   "source": [
    "# Renaming the first column as target\n",
    "dataset = dataset.rename(columns = {dataset.columns[0]:\"target\"})"
   ]
  },
  {
   "cell_type": "code",
   "execution_count": 5,
   "metadata": {},
   "outputs": [
    {
     "data": {
      "text/plain": [
       "negative       3012\n",
       "hypothyroid     151\n",
       "Name: target, dtype: int64"
      ]
     },
     "execution_count": 5,
     "metadata": {},
     "output_type": "execute_result"
    }
   ],
   "source": [
    "# Check the count of data in target\n",
    "dataset[\"target\"].value_counts()"
   ]
  },
  {
   "cell_type": "markdown",
   "metadata": {},
   "source": [
    "The value **'hypothyroid'** means that the patient was diagnosed with hypothyroidism and '**'negative''** means that there hypothyroidism was not diagnosed. We will be mapping the value '**'hypothyroid''** as '**1'** and '**'negative''** as '**0'**. \n",
    "\n",
    "Also, the target value in the dataset looks imbalanced as the number of negative samples is much higher than the positive ones."
   ]
  },
  {
   "cell_type": "code",
   "execution_count": 6,
   "metadata": {},
   "outputs": [],
   "source": [
    "dataset[\"target\"] = dataset[\"target\"].map({\"negative\":0,\"hypothyroid\":1})"
   ]
  },
  {
   "cell_type": "markdown",
   "metadata": {},
   "source": [
    "We will then look into the replacing the categorical values of some other columns in the dataset."
   ]
  },
  {
   "cell_type": "code",
   "execution_count": 7,
   "metadata": {},
   "outputs": [
    {
     "name": "stdout",
     "output_type": "stream",
     "text": [
      "Unique categories in the column 'pregnant' ['f' 't']\n",
      "Count of categories in the column 'pregnant' \n",
      " f    3100\n",
      "t      63\n",
      "Name: pregnant, dtype: int64\n"
     ]
    }
   ],
   "source": [
    "print(\"Unique categories in the column 'pregnant'\", dataset['pregnant'].unique())\n",
    "print(\"Count of categories in the column 'pregnant' \\n\", dataset[\"pregnant\"].value_counts())"
   ]
  },
  {
   "cell_type": "code",
   "execution_count": 8,
   "metadata": {},
   "outputs": [
    {
     "name": "stdout",
     "output_type": "stream",
     "text": [
      "Unique categories in the column 'T3 measured' ['y' 'n']\n",
      "Count of categories in the column 'T3 measured' \n",
      " y    2468\n",
      "n     695\n",
      "Name: T3_measured, dtype: int64\n"
     ]
    }
   ],
   "source": [
    "print(\"Unique categories in the column 'T3 measured'\", dataset['T3_measured'].unique())\n",
    "print(\"Count of categories in the column 'T3 measured' \\n\", dataset[\"T3_measured\"].value_counts())"
   ]
  },
  {
   "cell_type": "code",
   "execution_count": 9,
   "metadata": {},
   "outputs": [
    {
     "name": "stdout",
     "output_type": "stream",
     "text": [
      "Unique categories in the column 'Gender' ['M' 'F' '?']\n",
      "Count of categories in the column 'Gender' \n",
      " F    2182\n",
      "M     908\n",
      "?      73\n",
      "Name: Gender, dtype: int64\n"
     ]
    }
   ],
   "source": [
    "print(\"Unique categories in the column 'Gender'\", dataset['Gender'].unique())\n",
    "print(\"Count of categories in the column 'Gender' \\n\", dataset[\"Gender\"].value_counts())"
   ]
  },
  {
   "cell_type": "code",
   "execution_count": 10,
   "metadata": {},
   "outputs": [],
   "source": [
    "# Replacing the categorical values into binary values\n",
    "dataset = dataset.replace({'f':0,'t':1, 'y':1, 'n':0, 'M':0, 'F':1})"
   ]
  },
  {
   "cell_type": "code",
   "execution_count": 11,
   "metadata": {},
   "outputs": [
    {
     "data": {
      "text/html": [
       "<div>\n",
       "<style scoped>\n",
       "    .dataframe tbody tr th:only-of-type {\n",
       "        vertical-align: middle;\n",
       "    }\n",
       "\n",
       "    .dataframe tbody tr th {\n",
       "        vertical-align: top;\n",
       "    }\n",
       "\n",
       "    .dataframe thead th {\n",
       "        text-align: right;\n",
       "    }\n",
       "</style>\n",
       "<table border=\"1\" class=\"dataframe\">\n",
       "  <thead>\n",
       "    <tr style=\"text-align: right;\">\n",
       "      <th></th>\n",
       "      <th>target</th>\n",
       "      <th>Age</th>\n",
       "      <th>Gender</th>\n",
       "      <th>on_thyroxine</th>\n",
       "      <th>query_on_thyroxine</th>\n",
       "      <th>on_antithyroid_medication</th>\n",
       "      <th>thyroid_surgery</th>\n",
       "      <th>query_hypothyroid</th>\n",
       "      <th>query_hyperthyroid</th>\n",
       "      <th>pregnant</th>\n",
       "      <th>...</th>\n",
       "      <th>T3_measured</th>\n",
       "      <th>T3</th>\n",
       "      <th>TT4_measured</th>\n",
       "      <th>TT4</th>\n",
       "      <th>T4U_measured</th>\n",
       "      <th>T4U</th>\n",
       "      <th>FTI_measured</th>\n",
       "      <th>FTI</th>\n",
       "      <th>TBG_measured</th>\n",
       "      <th>TBG</th>\n",
       "    </tr>\n",
       "  </thead>\n",
       "  <tbody>\n",
       "    <tr>\n",
       "      <th>0</th>\n",
       "      <td>1</td>\n",
       "      <td>72</td>\n",
       "      <td>0</td>\n",
       "      <td>0</td>\n",
       "      <td>0</td>\n",
       "      <td>0</td>\n",
       "      <td>0</td>\n",
       "      <td>0</td>\n",
       "      <td>0</td>\n",
       "      <td>0</td>\n",
       "      <td>...</td>\n",
       "      <td>1</td>\n",
       "      <td>0.6</td>\n",
       "      <td>1</td>\n",
       "      <td>15</td>\n",
       "      <td>1</td>\n",
       "      <td>1.48</td>\n",
       "      <td>1</td>\n",
       "      <td>10</td>\n",
       "      <td>0</td>\n",
       "      <td>?</td>\n",
       "    </tr>\n",
       "    <tr>\n",
       "      <th>1</th>\n",
       "      <td>1</td>\n",
       "      <td>15</td>\n",
       "      <td>1</td>\n",
       "      <td>1</td>\n",
       "      <td>0</td>\n",
       "      <td>0</td>\n",
       "      <td>0</td>\n",
       "      <td>0</td>\n",
       "      <td>0</td>\n",
       "      <td>0</td>\n",
       "      <td>...</td>\n",
       "      <td>1</td>\n",
       "      <td>1.7</td>\n",
       "      <td>1</td>\n",
       "      <td>19</td>\n",
       "      <td>1</td>\n",
       "      <td>1.13</td>\n",
       "      <td>1</td>\n",
       "      <td>17</td>\n",
       "      <td>0</td>\n",
       "      <td>?</td>\n",
       "    </tr>\n",
       "    <tr>\n",
       "      <th>2</th>\n",
       "      <td>1</td>\n",
       "      <td>24</td>\n",
       "      <td>0</td>\n",
       "      <td>0</td>\n",
       "      <td>0</td>\n",
       "      <td>0</td>\n",
       "      <td>0</td>\n",
       "      <td>0</td>\n",
       "      <td>0</td>\n",
       "      <td>0</td>\n",
       "      <td>...</td>\n",
       "      <td>1</td>\n",
       "      <td>0.2</td>\n",
       "      <td>1</td>\n",
       "      <td>4</td>\n",
       "      <td>1</td>\n",
       "      <td>1</td>\n",
       "      <td>1</td>\n",
       "      <td>0</td>\n",
       "      <td>0</td>\n",
       "      <td>?</td>\n",
       "    </tr>\n",
       "    <tr>\n",
       "      <th>3</th>\n",
       "      <td>1</td>\n",
       "      <td>24</td>\n",
       "      <td>1</td>\n",
       "      <td>0</td>\n",
       "      <td>0</td>\n",
       "      <td>0</td>\n",
       "      <td>0</td>\n",
       "      <td>0</td>\n",
       "      <td>0</td>\n",
       "      <td>0</td>\n",
       "      <td>...</td>\n",
       "      <td>1</td>\n",
       "      <td>0.4</td>\n",
       "      <td>1</td>\n",
       "      <td>6</td>\n",
       "      <td>1</td>\n",
       "      <td>1.04</td>\n",
       "      <td>1</td>\n",
       "      <td>6</td>\n",
       "      <td>0</td>\n",
       "      <td>?</td>\n",
       "    </tr>\n",
       "    <tr>\n",
       "      <th>4</th>\n",
       "      <td>1</td>\n",
       "      <td>77</td>\n",
       "      <td>0</td>\n",
       "      <td>0</td>\n",
       "      <td>0</td>\n",
       "      <td>0</td>\n",
       "      <td>0</td>\n",
       "      <td>0</td>\n",
       "      <td>0</td>\n",
       "      <td>0</td>\n",
       "      <td>...</td>\n",
       "      <td>1</td>\n",
       "      <td>1.2</td>\n",
       "      <td>1</td>\n",
       "      <td>57</td>\n",
       "      <td>1</td>\n",
       "      <td>1.28</td>\n",
       "      <td>1</td>\n",
       "      <td>44</td>\n",
       "      <td>0</td>\n",
       "      <td>?</td>\n",
       "    </tr>\n",
       "  </tbody>\n",
       "</table>\n",
       "<p>5 rows × 26 columns</p>\n",
       "</div>"
      ],
      "text/plain": [
       "   target Age Gender  on_thyroxine  query_on_thyroxine  \\\n",
       "0       1  72      0             0                   0   \n",
       "1       1  15      1             1                   0   \n",
       "2       1  24      0             0                   0   \n",
       "3       1  24      1             0                   0   \n",
       "4       1  77      0             0                   0   \n",
       "\n",
       "   on_antithyroid_medication  thyroid_surgery  query_hypothyroid  \\\n",
       "0                          0                0                  0   \n",
       "1                          0                0                  0   \n",
       "2                          0                0                  0   \n",
       "3                          0                0                  0   \n",
       "4                          0                0                  0   \n",
       "\n",
       "   query_hyperthyroid  pregnant  ...  T3_measured   T3  TT4_measured  TT4  \\\n",
       "0                   0         0  ...            1  0.6             1   15   \n",
       "1                   0         0  ...            1  1.7             1   19   \n",
       "2                   0         0  ...            1  0.2             1    4   \n",
       "3                   0         0  ...            1  0.4             1    6   \n",
       "4                   0         0  ...            1  1.2             1   57   \n",
       "\n",
       "   T4U_measured   T4U  FTI_measured FTI  TBG_measured TBG  \n",
       "0             1  1.48             1  10             0   ?  \n",
       "1             1  1.13             1  17             0   ?  \n",
       "2             1     1             1   0             0   ?  \n",
       "3             1  1.04             1   6             0   ?  \n",
       "4             1  1.28             1  44             0   ?  \n",
       "\n",
       "[5 rows x 26 columns]"
      ]
     },
     "execution_count": 11,
     "metadata": {},
     "output_type": "execute_result"
    }
   ],
   "source": [
    "# Displaying the head of the dataset\n",
    "dataset.head()"
   ]
  },
  {
   "cell_type": "markdown",
   "metadata": {},
   "source": [
    "**Some of the features contain '?' values. So we will be replacing them with NaN values to count them.**"
   ]
  },
  {
   "cell_type": "code",
   "execution_count": 12,
   "metadata": {},
   "outputs": [],
   "source": [
    "# Replacing ? into NaN values \n",
    "dataset.replace(to_replace='?', inplace=True, value=np.NaN)"
   ]
  },
  {
   "cell_type": "markdown",
   "metadata": {},
   "source": [
    "### Checking for null values"
   ]
  },
  {
   "cell_type": "code",
   "execution_count": 13,
   "metadata": {},
   "outputs": [
    {
     "data": {
      "text/plain": [
       "target                          0\n",
       "Age                           446\n",
       "Gender                         73\n",
       "on_thyroxine                    0\n",
       "query_on_thyroxine              0\n",
       "on_antithyroid_medication       0\n",
       "thyroid_surgery                 0\n",
       "query_hypothyroid               0\n",
       "query_hyperthyroid              0\n",
       "pregnant                        0\n",
       "sick                            0\n",
       "tumor                           0\n",
       "lithium                         0\n",
       "goitre                          0\n",
       "TSH_measured                    0\n",
       "TSH                           468\n",
       "T3_measured                     0\n",
       "T3                            695\n",
       "TT4_measured                    0\n",
       "TT4                           249\n",
       "T4U_measured                    0\n",
       "T4U                           248\n",
       "FTI_measured                    0\n",
       "FTI                           247\n",
       "TBG_measured                    0\n",
       "TBG                          2903\n",
       "dtype: int64"
      ]
     },
     "execution_count": 13,
     "metadata": {},
     "output_type": "execute_result"
    }
   ],
   "source": [
    "# Count the number of null values\n",
    "dataset.isnull().sum()"
   ]
  },
  {
   "cell_type": "markdown",
   "metadata": {},
   "source": [
    "Here, we can see that the feature column \"TBG\" contains extremely high number of null values. So, we will be not be using this column for our model. "
   ]
  },
  {
   "cell_type": "code",
   "execution_count": 14,
   "metadata": {},
   "outputs": [],
   "source": [
    "# Dropping the TBG column as it contains extremely high number of null values\n",
    "dataset.drop('TBG', axis = 1, inplace=True)"
   ]
  },
  {
   "cell_type": "markdown",
   "metadata": {},
   "source": [
    "### Converting columns into numeric values\n",
    "\n",
    "This will help us in performing mathematical and statistical operations on the columns."
   ]
  },
  {
   "cell_type": "code",
   "execution_count": 15,
   "metadata": {},
   "outputs": [],
   "source": [
    "# Selecting columns with data type as 'object'\n",
    "columns = dataset.columns[dataset.dtypes.eq('object')]\n",
    "\n",
    "# Convert to numeric values\n",
    "dataset[columns] = dataset[columns].apply(pd.to_numeric, errors='coerce')"
   ]
  },
  {
   "cell_type": "code",
   "execution_count": 16,
   "metadata": {},
   "outputs": [
    {
     "name": "stdout",
     "output_type": "stream",
     "text": [
      "<class 'pandas.core.frame.DataFrame'>\n",
      "RangeIndex: 3163 entries, 0 to 3162\n",
      "Data columns (total 25 columns):\n",
      " #   Column                     Non-Null Count  Dtype  \n",
      "---  ------                     --------------  -----  \n",
      " 0   target                     3163 non-null   int64  \n",
      " 1   Age                        2717 non-null   float64\n",
      " 2   Gender                     3090 non-null   float64\n",
      " 3   on_thyroxine               3163 non-null   int64  \n",
      " 4   query_on_thyroxine         3163 non-null   int64  \n",
      " 5   on_antithyroid_medication  3163 non-null   int64  \n",
      " 6   thyroid_surgery            3163 non-null   int64  \n",
      " 7   query_hypothyroid          3163 non-null   int64  \n",
      " 8   query_hyperthyroid         3163 non-null   int64  \n",
      " 9   pregnant                   3163 non-null   int64  \n",
      " 10  sick                       3163 non-null   int64  \n",
      " 11  tumor                      3163 non-null   int64  \n",
      " 12  lithium                    3163 non-null   int64  \n",
      " 13  goitre                     3163 non-null   int64  \n",
      " 14  TSH_measured               3163 non-null   int64  \n",
      " 15  TSH                        2695 non-null   float64\n",
      " 16  T3_measured                3163 non-null   int64  \n",
      " 17  T3                         2468 non-null   float64\n",
      " 18  TT4_measured               3163 non-null   int64  \n",
      " 19  TT4                        2914 non-null   float64\n",
      " 20  T4U_measured               3163 non-null   int64  \n",
      " 21  T4U                        2915 non-null   float64\n",
      " 22  FTI_measured               3163 non-null   int64  \n",
      " 23  FTI                        2916 non-null   float64\n",
      " 24  TBG_measured               3163 non-null   int64  \n",
      "dtypes: float64(7), int64(18)\n",
      "memory usage: 617.9 KB\n"
     ]
    }
   ],
   "source": [
    "# Viewing the details\n",
    "dataset.info()"
   ]
  },
  {
   "cell_type": "markdown",
   "metadata": {},
   "source": [
    "### Visualize the patterns or trends in data\n",
    "\n",
    "We will now visualize the patterns in different columns (features) of the data using the `hist()` function of pandas library."
   ]
  },
  {
   "cell_type": "code",
   "execution_count": 17,
   "metadata": {},
   "outputs": [
    {
     "data": {
      "image/png": "[encoded data removed]",
      "text/plain": [
       "<Figure size 1440x1440 with 25 Axes>"
      ]
     },
     "metadata": {
      "needs_background": "light"
     },
     "output_type": "display_data"
    }
   ],
   "source": [
    "dataset.hist(figsize = (20,20));"
   ]
  },
  {
   "cell_type": "markdown",
   "metadata": {},
   "source": [
    "### Replacing null values in our data\n",
    "\n",
    "- We will now replace or impute the null values in our data with their appropriate statistical metric."
   ]
  },
  {
   "cell_type": "code",
   "execution_count": 18,
   "metadata": {},
   "outputs": [
    {
     "data": {
      "text/plain": [
       "['Age', 'Gender', 'TSH', 'T3', 'TT4', 'T4U', 'FTI']"
      ]
     },
     "execution_count": 18,
     "metadata": {},
     "output_type": "execute_result"
    }
   ],
   "source": [
    "# List of columns containing null values\n",
    "dataset.columns[dataset.isnull().any()].tolist() "
   ]
  },
  {
   "cell_type": "markdown",
   "metadata": {},
   "source": [
    "**Based on the statistics plotted above, we can see that,**\n",
    "\n",
    "- The features \"Age\" and \"T4U\" show a normal distribution, which is why we will be replacing the missing values with mean.\n",
    "- The features \"TSH\", \"T3\", \"TT4\" and \"FTI\" show a skewed distribution, which is why we will be replacing the missing values with median.\n",
    "- The feature \"gender\" is binary and contains an imbalanced data with the values \"1\" much greater then \"0\". So we will be replacing the missing values with \"0\"."
   ]
  },
  {
   "cell_type": "code",
   "execution_count": 19,
   "metadata": {},
   "outputs": [],
   "source": [
    "# Replacing null values by mean \n",
    "dataset['Age'].fillna(dataset['Age'].mean(), inplace = True)\n",
    "dataset['T4U'].fillna(dataset['T4U'].mean(), inplace = True)\n",
    "\n",
    "# Replacing null values by median\n",
    "dataset['TSH'].fillna(dataset['TSH'].mean(), inplace = True)\n",
    "dataset['T3'].fillna(dataset['T3'].median(), inplace = True)\n",
    "dataset['TT4'].fillna(dataset['TT4'].median(), inplace = True)\n",
    "dataset['FTI'].fillna(dataset['FTI'].median(), inplace = True)\n",
    "\n",
    "# The gender data looks to be imbalanced with 0 lesser than 1\n",
    "# Replacing null values with 0\n",
    "dataset['Gender'].fillna(0, inplace = True)"
   ]
  },
  {
   "cell_type": "markdown",
   "metadata": {},
   "source": [
    "### Visualize the imputed data"
   ]
  },
  {
   "cell_type": "code",
   "execution_count": 20,
   "metadata": {},
   "outputs": [
    {
     "data": {
      "image/png": "[encoded data removed]",
      "text/plain": [
       "<Figure size 1440x1440 with 25 Axes>"
      ]
     },
     "metadata": {
      "needs_background": "light"
     },
     "output_type": "display_data"
    }
   ],
   "source": [
    "# Plot the histogram of different features\n",
    "plot_cleaned = dataset.hist(figsize = (20,20))"
   ]
  },
  {
   "cell_type": "markdown",
   "metadata": {},
   "source": [
    "### Checking for null values\n",
    "\n",
    "We will again check the number of null values for each column."
   ]
  },
  {
   "cell_type": "code",
   "execution_count": 21,
   "metadata": {},
   "outputs": [
    {
     "data": {
      "text/plain": [
       "target                       0\n",
       "Age                          0\n",
       "Gender                       0\n",
       "on_thyroxine                 0\n",
       "query_on_thyroxine           0\n",
       "on_antithyroid_medication    0\n",
       "thyroid_surgery              0\n",
       "query_hypothyroid            0\n",
       "query_hyperthyroid           0\n",
       "pregnant                     0\n",
       "sick                         0\n",
       "tumor                        0\n",
       "lithium                      0\n",
       "goitre                       0\n",
       "TSH_measured                 0\n",
       "TSH                          0\n",
       "T3_measured                  0\n",
       "T3                           0\n",
       "TT4_measured                 0\n",
       "TT4                          0\n",
       "T4U_measured                 0\n",
       "T4U                          0\n",
       "FTI_measured                 0\n",
       "FTI                          0\n",
       "TBG_measured                 0\n",
       "dtype: int64"
      ]
     },
     "execution_count": 21,
     "metadata": {},
     "output_type": "execute_result"
    }
   ],
   "source": [
    "# Check for the number of null values\n",
    "dataset.isnull().sum()"
   ]
  },
  {
   "cell_type": "markdown",
   "metadata": {},
   "source": [
    "---\n",
    "## Modeling the data\n",
    "\n",
    "Our data is now cleaned and formatted. We are now ready to model the data for prediction using Deep Learning. We will be using a Neural network for predicting the **hypothyroidism (target)** based on our **input data (features).** "
   ]
  },
  {
   "cell_type": "markdown",
   "metadata": {},
   "source": [
    "### 1. Defining the features and target variables\n",
    "\n",
    "We will be separating our dataset into features (X) and the target variable (y)."
   ]
  },
  {
   "cell_type": "code",
   "execution_count": 22,
   "metadata": {},
   "outputs": [],
   "source": [
    "# Features\n",
    "X = dataset.drop('target', axis = 1) # selecting all columns except the target\n",
    "# Target variable\n",
    "y = dataset['target']"
   ]
  },
  {
   "cell_type": "code",
   "execution_count": 23,
   "metadata": {},
   "outputs": [
    {
     "name": "stdout",
     "output_type": "stream",
     "text": [
      "(3163, 24) (3163,)\n"
     ]
    }
   ],
   "source": [
    "print(X.shape, y.shape)"
   ]
  },
  {
   "cell_type": "markdown",
   "metadata": {},
   "source": [
    "### 2. Splitting the data into train (80%) and test (20%) data\n",
    "\n",
    "In order to efficiently evaluate our model, we will be training our model on 80% of the data, and keep the rest 20% for testing the model."
   ]
  },
  {
   "cell_type": "code",
   "execution_count": 24,
   "metadata": {},
   "outputs": [],
   "source": [
    "from sklearn.model_selection import train_test_split\n",
    "\n",
    "# Split the data\n",
    "X_train, X_test, y_train, y_test = train_test_split(X, y, test_size=0.2, random_state=42)"
   ]
  },
  {
   "cell_type": "markdown",
   "metadata": {},
   "source": [
    "### 3. Scaling the train and test data \n",
    "\n",
    "Scaling the data helps in normalizing the data within a particular range and also helps in speeding up the calculations in an algorithm. For scaling the data, we will be using the `StandardScaler` class from scikit-learn."
   ]
  },
  {
   "cell_type": "code",
   "execution_count": 25,
   "metadata": {},
   "outputs": [],
   "source": [
    "from sklearn.preprocessing import StandardScaler\n",
    "\n",
    "# Initialization of the class\n",
    "scaler = StandardScaler()\n",
    "\n",
    "# Applying the scaler on test and train data\n",
    "X_train = scaler.fit_transform(X_train)\n",
    "X_test = scaler.transform(X_test)"
   ]
  },
  {
   "cell_type": "markdown",
   "metadata": {},
   "source": [
    "### 4. Building the neural network\n",
    "\n",
    "The scope of our project is to design a feed-forward neural network for classiﬁcation of our target variable. Several factors determine the performance of the model such as the input, hidden and output layer conﬁgurations and the training methodology used. Most of the neural network architectures are determined by experimentation in practice. Here, we are defining a neural network containing a sequential model with one hidden layer and one output layer. \n",
    "\n",
    "<img src=\"imgs/neural_network.png\" width=\"600\">\n",
    "\n",
    "We have 24 feature columns due to which we have specified the input dimension as input_dim=24. We are using the ReLU activation function in the hidden layer, and sigmoid function for the output layer to return a binary value of output, i.e. hypothyroid (1) or negative (0)."
   ]
  },
  {
   "cell_type": "code",
   "execution_count": 26,
   "metadata": {},
   "outputs": [],
   "source": [
    "# Input\n",
    "model = Sequential()\n",
    "# Hidden layer\n",
    "model.add(Dense(64, kernel_initializer='uniform', input_dim=24, activation='relu'))\n",
    "# Output layer\n",
    "model.add(Dense(1, kernel_initializer='uniform', activation='sigmoid'))"
   ]
  },
  {
   "cell_type": "markdown",
   "metadata": {},
   "source": [
    "**Compiling the model with 'adam' optimizer and loss function as 'binary_crossentropy'.**"
   ]
  },
  {
   "cell_type": "code",
   "execution_count": 27,
   "metadata": {},
   "outputs": [],
   "source": [
    "model.compile(loss='binary_crossentropy', optimizer='adam', metrics=['accuracy'])"
   ]
  },
  {
   "cell_type": "markdown",
   "metadata": {},
   "source": [
    "### 5. Training the model\n",
    "\n",
    "We will now train the model with a validation split of 0.2 for 100 epochs."
   ]
  },
  {
   "cell_type": "code",
   "execution_count": 28,
   "metadata": {},
   "outputs": [
    {
     "name": "stdout",
     "output_type": "stream",
     "text": [
      "Epoch 1/100\n",
      "51/51 - 0s - loss: 0.5924 - accuracy: 0.9427 - val_loss: 0.4568 - val_accuracy: 0.9625\n",
      "Epoch 2/100\n",
      "51/51 - 0s - loss: 0.3172 - accuracy: 0.9550 - val_loss: 0.1932 - val_accuracy: 0.9644\n",
      "Epoch 3/100\n",
      "51/51 - 0s - loss: 0.1486 - accuracy: 0.9629 - val_loss: 0.1029 - val_accuracy: 0.9723\n",
      "Epoch 4/100\n",
      "51/51 - 0s - loss: 0.0966 - accuracy: 0.9704 - val_loss: 0.0740 - val_accuracy: 0.9842\n",
      "Epoch 5/100\n",
      "51/51 - 0s - loss: 0.0744 - accuracy: 0.9758 - val_loss: 0.0607 - val_accuracy: 0.9842\n",
      "Epoch 6/100\n",
      "51/51 - 0s - loss: 0.0635 - accuracy: 0.9783 - val_loss: 0.0538 - val_accuracy: 0.9842\n",
      "Epoch 7/100\n",
      "51/51 - 0s - loss: 0.0578 - accuracy: 0.9792 - val_loss: 0.0502 - val_accuracy: 0.9822\n",
      "Epoch 8/100\n",
      "51/51 - 0s - loss: 0.0538 - accuracy: 0.9812 - val_loss: 0.0473 - val_accuracy: 0.9822\n",
      "Epoch 9/100\n",
      "51/51 - 0s - loss: 0.0514 - accuracy: 0.9817 - val_loss: 0.0459 - val_accuracy: 0.9802\n",
      "Epoch 10/100\n",
      "51/51 - 0s - loss: 0.0491 - accuracy: 0.9827 - val_loss: 0.0441 - val_accuracy: 0.9802\n",
      "Epoch 11/100\n",
      "51/51 - 0s - loss: 0.0476 - accuracy: 0.9832 - val_loss: 0.0426 - val_accuracy: 0.9802\n",
      "Epoch 12/100\n",
      "51/51 - 0s - loss: 0.0460 - accuracy: 0.9832 - val_loss: 0.0428 - val_accuracy: 0.9802\n",
      "Epoch 13/100\n",
      "51/51 - 0s - loss: 0.0447 - accuracy: 0.9837 - val_loss: 0.0414 - val_accuracy: 0.9802\n",
      "Epoch 14/100\n",
      "51/51 - 0s - loss: 0.0436 - accuracy: 0.9842 - val_loss: 0.0401 - val_accuracy: 0.9802\n",
      "Epoch 15/100\n",
      "51/51 - 0s - loss: 0.0423 - accuracy: 0.9842 - val_loss: 0.0400 - val_accuracy: 0.9822\n",
      "Epoch 16/100\n",
      "51/51 - 0s - loss: 0.0415 - accuracy: 0.9847 - val_loss: 0.0389 - val_accuracy: 0.9862\n",
      "Epoch 17/100\n",
      "51/51 - 0s - loss: 0.0406 - accuracy: 0.9857 - val_loss: 0.0396 - val_accuracy: 0.9842\n",
      "Epoch 18/100\n",
      "51/51 - 0s - loss: 0.0396 - accuracy: 0.9857 - val_loss: 0.0380 - val_accuracy: 0.9862\n",
      "Epoch 19/100\n",
      "51/51 - 0s - loss: 0.0396 - accuracy: 0.9857 - val_loss: 0.0369 - val_accuracy: 0.9862\n",
      "Epoch 20/100\n",
      "51/51 - 0s - loss: 0.0385 - accuracy: 0.9872 - val_loss: 0.0367 - val_accuracy: 0.9842\n",
      "Epoch 21/100\n",
      "51/51 - 0s - loss: 0.0374 - accuracy: 0.9867 - val_loss: 0.0370 - val_accuracy: 0.9842\n",
      "Epoch 22/100\n",
      "51/51 - 0s - loss: 0.0367 - accuracy: 0.9886 - val_loss: 0.0366 - val_accuracy: 0.9842\n",
      "Epoch 23/100\n",
      "51/51 - 0s - loss: 0.0363 - accuracy: 0.9872 - val_loss: 0.0353 - val_accuracy: 0.9862\n",
      "Epoch 24/100\n",
      "51/51 - 0s - loss: 0.0356 - accuracy: 0.9872 - val_loss: 0.0352 - val_accuracy: 0.9862\n",
      "Epoch 25/100\n",
      "51/51 - 0s - loss: 0.0354 - accuracy: 0.9867 - val_loss: 0.0367 - val_accuracy: 0.9842\n",
      "Epoch 26/100\n",
      "51/51 - 0s - loss: 0.0349 - accuracy: 0.9876 - val_loss: 0.0350 - val_accuracy: 0.9842\n",
      "Epoch 27/100\n",
      "51/51 - 0s - loss: 0.0342 - accuracy: 0.9896 - val_loss: 0.0347 - val_accuracy: 0.9842\n",
      "Epoch 28/100\n",
      "51/51 - 0s - loss: 0.0338 - accuracy: 0.9891 - val_loss: 0.0351 - val_accuracy: 0.9842\n",
      "Epoch 29/100\n",
      "51/51 - 0s - loss: 0.0336 - accuracy: 0.9891 - val_loss: 0.0344 - val_accuracy: 0.9862\n",
      "Epoch 30/100\n",
      "51/51 - 0s - loss: 0.0327 - accuracy: 0.9886 - val_loss: 0.0349 - val_accuracy: 0.9842\n",
      "Epoch 31/100\n",
      "51/51 - 0s - loss: 0.0323 - accuracy: 0.9896 - val_loss: 0.0344 - val_accuracy: 0.9842\n",
      "Epoch 32/100\n",
      "51/51 - 0s - loss: 0.0321 - accuracy: 0.9886 - val_loss: 0.0352 - val_accuracy: 0.9842\n",
      "Epoch 33/100\n",
      "51/51 - 0s - loss: 0.0319 - accuracy: 0.9901 - val_loss: 0.0347 - val_accuracy: 0.9842\n",
      "Epoch 34/100\n",
      "51/51 - 0s - loss: 0.0314 - accuracy: 0.9886 - val_loss: 0.0354 - val_accuracy: 0.9842\n",
      "Epoch 35/100\n",
      "51/51 - 0s - loss: 0.0311 - accuracy: 0.9886 - val_loss: 0.0349 - val_accuracy: 0.9842\n",
      "Epoch 36/100\n",
      "51/51 - 0s - loss: 0.0306 - accuracy: 0.9906 - val_loss: 0.0337 - val_accuracy: 0.9842\n",
      "Epoch 37/100\n",
      "51/51 - 0s - loss: 0.0304 - accuracy: 0.9901 - val_loss: 0.0342 - val_accuracy: 0.9862\n",
      "Epoch 38/100\n",
      "51/51 - 0s - loss: 0.0303 - accuracy: 0.9911 - val_loss: 0.0346 - val_accuracy: 0.9862\n",
      "Epoch 39/100\n",
      "51/51 - 0s - loss: 0.0298 - accuracy: 0.9901 - val_loss: 0.0336 - val_accuracy: 0.9881\n",
      "Epoch 40/100\n",
      "51/51 - 0s - loss: 0.0296 - accuracy: 0.9901 - val_loss: 0.0348 - val_accuracy: 0.9881\n",
      "Epoch 41/100\n",
      "51/51 - 0s - loss: 0.0292 - accuracy: 0.9916 - val_loss: 0.0346 - val_accuracy: 0.9881\n",
      "Epoch 42/100\n",
      "51/51 - 0s - loss: 0.0286 - accuracy: 0.9916 - val_loss: 0.0333 - val_accuracy: 0.9862\n",
      "Epoch 43/100\n",
      "51/51 - 0s - loss: 0.0289 - accuracy: 0.9901 - val_loss: 0.0346 - val_accuracy: 0.9881\n",
      "Epoch 44/100\n",
      "51/51 - 0s - loss: 0.0283 - accuracy: 0.9921 - val_loss: 0.0347 - val_accuracy: 0.9901\n",
      "Epoch 45/100\n",
      "51/51 - 0s - loss: 0.0285 - accuracy: 0.9916 - val_loss: 0.0349 - val_accuracy: 0.9901\n",
      "Epoch 46/100\n",
      "51/51 - 0s - loss: 0.0279 - accuracy: 0.9911 - val_loss: 0.0341 - val_accuracy: 0.9881\n",
      "Epoch 47/100\n",
      "51/51 - 0s - loss: 0.0274 - accuracy: 0.9921 - val_loss: 0.0350 - val_accuracy: 0.9881\n",
      "Epoch 48/100\n",
      "51/51 - 0s - loss: 0.0273 - accuracy: 0.9911 - val_loss: 0.0345 - val_accuracy: 0.9901\n",
      "Epoch 49/100\n",
      "51/51 - 0s - loss: 0.0273 - accuracy: 0.9911 - val_loss: 0.0335 - val_accuracy: 0.9881\n",
      "Epoch 50/100\n",
      "51/51 - 0s - loss: 0.0267 - accuracy: 0.9916 - val_loss: 0.0342 - val_accuracy: 0.9881\n",
      "Epoch 51/100\n",
      "51/51 - 0s - loss: 0.0265 - accuracy: 0.9911 - val_loss: 0.0345 - val_accuracy: 0.9921\n",
      "Epoch 52/100\n",
      "51/51 - 0s - loss: 0.0266 - accuracy: 0.9916 - val_loss: 0.0344 - val_accuracy: 0.9921\n",
      "Epoch 53/100\n",
      "51/51 - 0s - loss: 0.0260 - accuracy: 0.9921 - val_loss: 0.0338 - val_accuracy: 0.9881\n",
      "Epoch 54/100\n",
      "51/51 - 0s - loss: 0.0260 - accuracy: 0.9916 - val_loss: 0.0347 - val_accuracy: 0.9901\n",
      "Epoch 55/100\n",
      "51/51 - 0s - loss: 0.0259 - accuracy: 0.9921 - val_loss: 0.0340 - val_accuracy: 0.9921\n",
      "Epoch 56/100\n",
      "51/51 - 0s - loss: 0.0254 - accuracy: 0.9911 - val_loss: 0.0346 - val_accuracy: 0.9901\n",
      "Epoch 57/100\n",
      "51/51 - 0s - loss: 0.0253 - accuracy: 0.9916 - val_loss: 0.0342 - val_accuracy: 0.9901\n",
      "Epoch 58/100\n",
      "51/51 - 0s - loss: 0.0252 - accuracy: 0.9911 - val_loss: 0.0341 - val_accuracy: 0.9901\n",
      "Epoch 59/100\n",
      "51/51 - 0s - loss: 0.0250 - accuracy: 0.9921 - val_loss: 0.0340 - val_accuracy: 0.9881\n",
      "Epoch 60/100\n",
      "51/51 - 0s - loss: 0.0252 - accuracy: 0.9911 - val_loss: 0.0352 - val_accuracy: 0.9901\n",
      "Epoch 61/100\n",
      "51/51 - 0s - loss: 0.0247 - accuracy: 0.9931 - val_loss: 0.0343 - val_accuracy: 0.9901\n",
      "Epoch 62/100\n",
      "51/51 - 0s - loss: 0.0247 - accuracy: 0.9916 - val_loss: 0.0355 - val_accuracy: 0.9862\n",
      "Epoch 63/100\n",
      "51/51 - 0s - loss: 0.0241 - accuracy: 0.9926 - val_loss: 0.0343 - val_accuracy: 0.9901\n",
      "Epoch 64/100\n",
      "51/51 - 0s - loss: 0.0241 - accuracy: 0.9926 - val_loss: 0.0350 - val_accuracy: 0.9901\n",
      "Epoch 65/100\n",
      "51/51 - 0s - loss: 0.0241 - accuracy: 0.9926 - val_loss: 0.0352 - val_accuracy: 0.9881\n",
      "Epoch 66/100\n",
      "51/51 - 0s - loss: 0.0239 - accuracy: 0.9931 - val_loss: 0.0348 - val_accuracy: 0.9901\n",
      "Epoch 67/100\n",
      "51/51 - 0s - loss: 0.0236 - accuracy: 0.9921 - val_loss: 0.0346 - val_accuracy: 0.9901\n",
      "Epoch 68/100\n",
      "51/51 - 0s - loss: 0.0239 - accuracy: 0.9926 - val_loss: 0.0345 - val_accuracy: 0.9881\n",
      "Epoch 69/100\n",
      "51/51 - 0s - loss: 0.0235 - accuracy: 0.9926 - val_loss: 0.0347 - val_accuracy: 0.9901\n",
      "Epoch 70/100\n",
      "51/51 - 0s - loss: 0.0231 - accuracy: 0.9921 - val_loss: 0.0353 - val_accuracy: 0.9881\n",
      "Epoch 71/100\n",
      "51/51 - 0s - loss: 0.0230 - accuracy: 0.9936 - val_loss: 0.0355 - val_accuracy: 0.9881\n",
      "Epoch 72/100\n",
      "51/51 - 0s - loss: 0.0229 - accuracy: 0.9931 - val_loss: 0.0348 - val_accuracy: 0.9901\n",
      "Epoch 73/100\n",
      "51/51 - 0s - loss: 0.0228 - accuracy: 0.9936 - val_loss: 0.0350 - val_accuracy: 0.9901\n",
      "Epoch 74/100\n",
      "51/51 - 0s - loss: 0.0225 - accuracy: 0.9946 - val_loss: 0.0354 - val_accuracy: 0.9901\n",
      "Epoch 75/100\n",
      "51/51 - 0s - loss: 0.0225 - accuracy: 0.9931 - val_loss: 0.0352 - val_accuracy: 0.9901\n",
      "Epoch 76/100\n",
      "51/51 - 0s - loss: 0.0224 - accuracy: 0.9931 - val_loss: 0.0349 - val_accuracy: 0.9881\n",
      "Epoch 77/100\n",
      "51/51 - 0s - loss: 0.0225 - accuracy: 0.9926 - val_loss: 0.0354 - val_accuracy: 0.9881\n",
      "Epoch 78/100\n",
      "51/51 - 0s - loss: 0.0223 - accuracy: 0.9941 - val_loss: 0.0354 - val_accuracy: 0.9881\n",
      "Epoch 79/100\n",
      "51/51 - 0s - loss: 0.0219 - accuracy: 0.9926 - val_loss: 0.0360 - val_accuracy: 0.9862\n",
      "Epoch 80/100\n",
      "51/51 - 0s - loss: 0.0217 - accuracy: 0.9941 - val_loss: 0.0359 - val_accuracy: 0.9901\n",
      "Epoch 81/100\n",
      "51/51 - 0s - loss: 0.0215 - accuracy: 0.9936 - val_loss: 0.0358 - val_accuracy: 0.9901\n",
      "Epoch 82/100\n",
      "51/51 - 0s - loss: 0.0218 - accuracy: 0.9941 - val_loss: 0.0370 - val_accuracy: 0.9862\n",
      "Epoch 83/100\n",
      "51/51 - 0s - loss: 0.0222 - accuracy: 0.9941 - val_loss: 0.0361 - val_accuracy: 0.9881\n",
      "Epoch 84/100\n",
      "51/51 - 0s - loss: 0.0214 - accuracy: 0.9941 - val_loss: 0.0360 - val_accuracy: 0.9881\n",
      "Epoch 85/100\n",
      "51/51 - 0s - loss: 0.0213 - accuracy: 0.9936 - val_loss: 0.0361 - val_accuracy: 0.9881\n",
      "Epoch 86/100\n",
      "51/51 - 0s - loss: 0.0212 - accuracy: 0.9946 - val_loss: 0.0363 - val_accuracy: 0.9881\n",
      "Epoch 87/100\n",
      "51/51 - 0s - loss: 0.0214 - accuracy: 0.9936 - val_loss: 0.0368 - val_accuracy: 0.9842\n",
      "Epoch 88/100\n",
      "51/51 - 0s - loss: 0.0211 - accuracy: 0.9941 - val_loss: 0.0364 - val_accuracy: 0.9881\n",
      "Epoch 89/100\n",
      "51/51 - 0s - loss: 0.0209 - accuracy: 0.9941 - val_loss: 0.0364 - val_accuracy: 0.9881\n",
      "Epoch 90/100\n",
      "51/51 - 0s - loss: 0.0209 - accuracy: 0.9941 - val_loss: 0.0366 - val_accuracy: 0.9842\n",
      "Epoch 91/100\n",
      "51/51 - 0s - loss: 0.0206 - accuracy: 0.9936 - val_loss: 0.0366 - val_accuracy: 0.9862\n",
      "Epoch 92/100\n",
      "51/51 - 0s - loss: 0.0204 - accuracy: 0.9941 - val_loss: 0.0369 - val_accuracy: 0.9862\n",
      "Epoch 93/100\n",
      "51/51 - 0s - loss: 0.0205 - accuracy: 0.9936 - val_loss: 0.0369 - val_accuracy: 0.9862\n",
      "Epoch 94/100\n",
      "51/51 - 0s - loss: 0.0203 - accuracy: 0.9946 - val_loss: 0.0368 - val_accuracy: 0.9881\n",
      "Epoch 95/100\n",
      "51/51 - 0s - loss: 0.0202 - accuracy: 0.9936 - val_loss: 0.0377 - val_accuracy: 0.9842\n",
      "Epoch 96/100\n",
      "51/51 - 0s - loss: 0.0204 - accuracy: 0.9941 - val_loss: 0.0378 - val_accuracy: 0.9842\n",
      "Epoch 97/100\n",
      "51/51 - 0s - loss: 0.0200 - accuracy: 0.9946 - val_loss: 0.0372 - val_accuracy: 0.9881\n",
      "Epoch 98/100\n",
      "51/51 - 0s - loss: 0.0201 - accuracy: 0.9946 - val_loss: 0.0373 - val_accuracy: 0.9862\n",
      "Epoch 99/100\n",
      "51/51 - 0s - loss: 0.0200 - accuracy: 0.9946 - val_loss: 0.0373 - val_accuracy: 0.9881\n",
      "Epoch 100/100\n",
      "51/51 - 0s - loss: 0.0200 - accuracy: 0.9931 - val_loss: 0.0375 - val_accuracy: 0.9842\n"
     ]
    }
   ],
   "source": [
    "# Training the model\n",
    "result = model.fit(X_train, y_train, epochs=100, validation_split=0.2, batch_size=40,  verbose=2)"
   ]
  },
  {
   "cell_type": "markdown",
   "metadata": {},
   "source": [
    "### 6. Evaluating the model\n",
    "\n",
    "We will now evaluate the performance of our trained model on test data to find metrics such as Accuracy, F1-score, recall, and precision."
   ]
  },
  {
   "cell_type": "markdown",
   "metadata": {},
   "source": [
    "**Accuracy**"
   ]
  },
  {
   "cell_type": "code",
   "execution_count": 29,
   "metadata": {},
   "outputs": [
    {
     "name": "stdout",
     "output_type": "stream",
     "text": [
      "20/20 [==============================] - 0s 992us/step - loss: 0.0652 - accuracy: 0.9826\n",
      "loss: 6.52%\n",
      "accuracy: 98.26%\n"
     ]
    }
   ],
   "source": [
    "# Get the loss and accuracy of the model by evaluation\n",
    "loss, acc = model.evaluate(X_test, y_test)\n",
    "\n",
    "# Print the loss and accuracy score for the model\n",
    "print(\"%s: %.2f%%\" % (model.metrics_names[0], loss*100))\n",
    "print(\"%s: %.2f%%\" % (model.metrics_names[1], acc*100))"
   ]
  },
  {
   "cell_type": "markdown",
   "metadata": {},
   "source": [
    "We are getting a quite good accuracy of **98.26%** from our Deep Learning model. However, our data is imbalanced and hence accuracy is not a good measure. Hence, we will be using a metric called [F1-score](https://scikit-learn.org/stable/modules/generated/sklearn.metrics.f1_score.html)."
   ]
  },
  {
   "cell_type": "markdown",
   "metadata": {},
   "source": [
    "**F1-score, Recall, Precision**"
   ]
  },
  {
   "cell_type": "code",
   "execution_count": 30,
   "metadata": {},
   "outputs": [],
   "source": [
    "# Predicting the output predictions\n",
    "y_pred = model.predict(X_test).round()"
   ]
  },
  {
   "cell_type": "code",
   "execution_count": 31,
   "metadata": {},
   "outputs": [
    {
     "name": "stdout",
     "output_type": "stream",
     "text": [
      "F1-score: 84.06%\n",
      "Recall: 78.38%\n",
      "Precision: 90.62%\n"
     ]
    }
   ],
   "source": [
    "# Calculating the F1 score, recall, and precision\n",
    "print(\"%s: %.2f%%\" % (\"F1-score\", f1_score(y_test, y_pred)*100))\n",
    "print(\"%s: %.2f%%\" % (\"Recall\", recall_score(y_test, y_pred)*100))\n",
    "print(\"%s: %.2f%%\" % (\"Precision\", precision_score(y_test, y_pred)*100))"
   ]
  },
  {
   "cell_type": "markdown",
   "metadata": {},
   "source": [
    "We are getting a quite good value of F1-score, recall and precision as well. Hence, our model seems to be performing well."
   ]
  },
  {
   "cell_type": "markdown",
   "metadata": {},
   "source": [
    "**Training and validation loss**"
   ]
  },
  {
   "cell_type": "code",
   "execution_count": 32,
   "metadata": {},
   "outputs": [
    {
     "data": {
      "image/png": "[encoded data removed]",
      "text/plain": [
       "<Figure size 432x288 with 1 Axes>"
      ]
     },
     "metadata": {
      "needs_background": "light"
     },
     "output_type": "display_data"
    }
   ],
   "source": [
    "# summarize the result and plot the training and test loss\n",
    "plt.plot(result.history['loss'])\n",
    "plt.plot(result.history['val_loss'])\n",
    "\n",
    "# Set the parameters\n",
    "plt.title('Deep learning model loss')\n",
    "plt.ylabel('Loss')\n",
    "plt.xlabel('Epochs')\n",
    "plt.legend(['train', 'test'], loc='upper right')\n",
    "\n",
    "# Display the plots\n",
    "plt.show()"
   ]
  },
  {
   "cell_type": "markdown",
   "metadata": {},
   "source": [
    "We can see that both the losses have converged at a very good rate."
   ]
  },
  {
   "cell_type": "markdown",
   "metadata": {},
   "source": [
    "### 7. Saving the trained model\n",
    "\n",
    "We can save our trained model for future use. We can then load the saved model using\n",
    "`model = keras.models.load_model('path/to/savedmodel')`"
   ]
  },
  {
   "cell_type": "code",
   "execution_count": 33,
   "metadata": {},
   "outputs": [],
   "source": [
    "# Save the trained model \n",
    "model.save('saved_model.h5')"
   ]
  },
  {
   "cell_type": "markdown",
   "metadata": {},
   "source": [
    "## Conclusion\n",
    "\n",
    "In this project, we have illustrated the potential use of neural networks in diagnosing hypothyroid disease. The identification of thyroid disease identiﬁcation remains to be an essential yet difﬁcult task in both clinical diagnosis and statistical classification. The diagnosis involves the use of a large number of interrelated patient attributes along with extremely unbalanced groups that result in a complicated relationship between the input features. However, Artiﬁcial neural networks show a promising result due to its flexible nature in modeling complex patterns of data for diagnosis. This knowledge can be further extended for many other disease diagnosis where such problems exist."
   ]
  }
 ],
 "metadata": {
  "kernelspec": {
   "display_name": "Python 3",
   "language": "python",
   "name": "python3"
  },
  "language_info": {
   "codemirror_mode": {
    "name": "ipython",
    "version": 3
   },
   "file_extension": ".py",
   "mimetype": "text/x-python",
   "name": "python",
   "nbconvert_exporter": "python",
   "pygments_lexer": "ipython3",
   "version": "3.8.3"
  }
 },
 "nbformat": 4,
 "nbformat_minor": 4
}
